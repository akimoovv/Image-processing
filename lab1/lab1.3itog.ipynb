{
 "cells": [
  {
   "cell_type": "code",
   "execution_count": 264,
   "metadata": {},
   "outputs": [],
   "source": [
    "from skimage.io import imread, imshow, imsave\n",
    "from skimage import img_as_float, img_as_ubyte\n",
    "from numpy import histogram\n",
    "import numpy as np"
   ]
  },
  {
   "cell_type": "code",
   "execution_count": 265,
   "metadata": {},
   "outputs": [],
   "source": [
    "def entropy(img):\n",
    "    h, _ = histogram(img, bins=range(257))\n",
    "    H = 0\n",
    "    probabilitys = (h * 1.0) / img.size\n",
    "    for p in probabilitys:\n",
    "        if p > 0:\n",
    "            H += (-p * np.log2(p))\n",
    "    return H"
   ]
  },
  {
   "cell_type": "code",
   "execution_count": 266,
   "metadata": {},
   "outputs": [],
   "source": [
    "def mse(img1,img2):\n",
    "    h1, _ = np.histogram(img1, bins = range(257))\n",
    "    h2, _ = np.histogram(img2, bins = range(257))\n",
    "    P = (h1*1.0)\n",
    "    Q = (h2*1.0)\n",
    "    MSE = (((P - Q) **2).sum()) / len(P)\n",
    "    return MSE / img1.size"
   ]
  },
  {
   "cell_type": "code",
   "execution_count": 267,
   "metadata": {},
   "outputs": [],
   "source": [
    "i1 = imread('A2.png')\n",
    "i2 = imread('decimial.png')\n",
    "\n",
    "j1 = imread('A2.png')\n",
    "j2 = imread('img_greyscale_encode.png')\n"
   ]
  },
  {
   "cell_type": "code",
   "execution_count": 268,
   "metadata": {},
   "outputs": [
    {
     "data": {
      "text/plain": [
       "4.560877196783431"
      ]
     },
     "execution_count": 268,
     "metadata": {},
     "output_type": "execute_result"
    }
   ],
   "source": [
    "entropy(j2)"
   ]
  },
  {
   "cell_type": "code",
   "execution_count": 269,
   "metadata": {},
   "outputs": [
    {
     "data": {
      "text/plain": [
       "7.523014406240361"
      ]
     },
     "execution_count": 269,
     "metadata": {},
     "output_type": "execute_result"
    }
   ],
   "source": [
    "entropy(i2)"
   ]
  },
  {
   "cell_type": "code",
   "execution_count": 270,
   "metadata": {},
   "outputs": [
    {
     "data": {
      "text/plain": [
       "0.4170980516523549"
      ]
     },
     "execution_count": 270,
     "metadata": {},
     "output_type": "execute_result"
    }
   ],
   "source": [
    "mse(i1,i2)"
   ]
  },
  {
   "cell_type": "code",
   "execution_count": 271,
   "metadata": {},
   "outputs": [
    {
     "data": {
      "text/plain": [
       "29.503117366396694"
      ]
     },
     "execution_count": 271,
     "metadata": {},
     "output_type": "execute_result"
    }
   ],
   "source": [
    "mse(j1,j2)"
   ]
  },
  {
   "cell_type": "raw",
   "metadata": {},
   "source": [
    "Для квантованного изображения с шагом 8\n",
    "Энтропия : 4.560877196783431\n",
    "MSE: 0.4170980516523549\n",
    "\n",
    "Для децимационного изображения\n",
    "Энтропия : 7.523014406240361\n",
    "MSE: 29.503117366396694"
   ]
  }
 ],
 "metadata": {
  "kernelspec": {
   "display_name": "Python 2",
   "language": "python",
   "name": "python2"
  },
  "language_info": {
   "codemirror_mode": {
    "name": "ipython",
    "version": 2
   },
   "file_extension": ".py",
   "mimetype": "text/x-python",
   "name": "python",
   "nbconvert_exporter": "python",
   "pygments_lexer": "ipython2",
   "version": "2.7.16"
  }
 },
 "nbformat": 4,
 "nbformat_minor": 2
}
